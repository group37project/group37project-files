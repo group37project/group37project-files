{
 "cells": [
  {
   "attachments": {},
   "cell_type": "markdown",
   "metadata": {},
   "source": [
    "Step 1: Data Loading"
   ]
  },
  {
   "cell_type": "code",
   "execution_count": 205,
   "metadata": {},
   "outputs": [],
   "source": [
    "import pandas as pd\n",
    "import numpy as np\n",
    "\n",
    "data = pd.read_csv('Insurance.csv')"
   ]
  },
  {
   "attachments": {},
   "cell_type": "markdown",
   "metadata": {},
   "source": [
    "Step 2: Data Exploration"
   ]
  },
  {
   "cell_type": "code",
   "execution_count": 206,
   "metadata": {},
   "outputs": [
    {
     "name": "stdout",
     "output_type": "stream",
     "text": [
      "   Gender  Age  Height  Weight   BMI      BMI Status  Body Fat  \\\n",
      "0    Male   42    1.90    97.3  27.0      Overweight      24.4   \n",
      "1  Female   39    1.59   106.6  42.2  Morbidly obese      54.5   \n",
      "2    Male   43    1.73    85.3  28.5      Overweight      32.0   \n",
      "3  Female   40    1.70   104.2  37.1  Severely obese      48.3   \n",
      "4    Male   42    1.72    91.0  30.8           Obese      30.3   \n",
      "\n",
      "   Skeletal Muscle  Body Age  Visceral Fat Blood Pressure  Resting Metabolism  \\\n",
      "0             35.0        66             9         121/79                1944   \n",
      "1             20.5        72            11         128/76                1753   \n",
      "2             31.2        58            12         130/87                1788   \n",
      "3             23.4        63            10         112/74                1798   \n",
      "4             32.9        60            14         114/70                1886   \n",
      "\n",
      "   Waist Circumference Charges (UGX)  \n",
      "0                 38.0     2,045,511  \n",
      "1                 40.0       172,555  \n",
      "2                 37.0       444,946  \n",
      "3                 38.0     2,198,447  \n",
      "4                 40.0       386,686  \n",
      "<class 'pandas.core.frame.DataFrame'>\n",
      "RangeIndex: 509 entries, 0 to 508\n",
      "Data columns (total 14 columns):\n",
      " #   Column               Non-Null Count  Dtype  \n",
      "---  ------               --------------  -----  \n",
      " 0   Gender               509 non-null    object \n",
      " 1   Age                  509 non-null    int64  \n",
      " 2   Height               508 non-null    float64\n",
      " 3   Weight               509 non-null    float64\n",
      " 4   BMI                  509 non-null    float64\n",
      " 5   BMI Status           509 non-null    object \n",
      " 6   Body Fat             509 non-null    float64\n",
      " 7   Skeletal Muscle      509 non-null    float64\n",
      " 8   Body Age             509 non-null    int64  \n",
      " 9   Visceral Fat         509 non-null    int64  \n",
      " 10  Blood Pressure       509 non-null    object \n",
      " 11  Resting Metabolism   509 non-null    int64  \n",
      " 12  Waist Circumference  509 non-null    float64\n",
      " 13  Charges (UGX)        509 non-null    object \n",
      "dtypes: float64(6), int64(4), object(4)\n",
      "memory usage: 55.8+ KB\n",
      "None\n"
     ]
    }
   ],
   "source": [
    "print(data.head())  # Display the first few rows of the DataFrame\n",
    "print(data.info())  # Check for missing values and data types"
   ]
  },
  {
   "attachments": {},
   "cell_type": "markdown",
   "metadata": {},
   "source": [
    "Step 3: Data Pre-Processing"
   ]
  },
  {
   "cell_type": "code",
   "execution_count": 207,
   "metadata": {},
   "outputs": [
    {
     "name": "stderr",
     "output_type": "stream",
     "text": [
      "/var/folders/8t/2637wpkx5fg7m_lbzzjstcfm0000gn/T/ipykernel_58909/1254698241.py:3: FutureWarning: Dropping of nuisance columns in DataFrame reductions (with 'numeric_only=None') is deprecated; in a future version this will raise TypeError.  Select only valid columns before calling the reduction.\n",
      "  data.fillna(data.mean(), inplace=True)  # Impute missing values with the mean\n"
     ]
    }
   ],
   "source": [
    "# data.dropna(inplace=True)  # Drop rows with missing values\n",
    "# Or\n",
    "data.fillna(data.mean(), inplace=True)  # Impute missing values with the mean"
   ]
  },
  {
   "cell_type": "code",
   "execution_count": 208,
   "metadata": {},
   "outputs": [],
   "source": [
    "data_encoded = pd.get_dummies(data, columns=['Gender', 'BMI Status'], drop_first=True)"
   ]
  },
  {
   "cell_type": "code",
   "execution_count": 209,
   "metadata": {},
   "outputs": [
    {
     "data": {
      "text/plain": [
       "Index(['Age', 'Height', 'Weight', 'BMI', 'Body Fat', 'Skeletal Muscle',\n",
       "       'Body Age', 'Visceral Fat', 'Blood Pressure', 'Resting Metabolism',\n",
       "       'Waist Circumference', 'Charges (UGX)', 'Gender_Male',\n",
       "       'BMI Status_Morbidly obese', 'BMI Status_Normal', 'BMI Status_Obese',\n",
       "       'BMI Status_Overweight', 'BMI Status_Severely Obese',\n",
       "       'BMI Status_Severely obese', 'BMI Status_Severely obse',\n",
       "       'BMI Status_Severly Obese', 'BMI Status_Underweight',\n",
       "       'BMI Status_overwight'],\n",
       "      dtype='object')"
      ]
     },
     "execution_count": 209,
     "metadata": {},
     "output_type": "execute_result"
    }
   ],
   "source": [
    "X = data_encoded.drop('Charges (UGX)', axis=1)\n",
    "y = data_encoded['Charges (UGX)']\n",
    "data_encoded.columns"
   ]
  },
  {
   "cell_type": "code",
   "execution_count": 210,
   "metadata": {},
   "outputs": [],
   "source": [
    "# Convert 'Charges (UGX)' column to float\n",
    "data_encoded['Charges (UGX)'] = data_encoded['Charges (UGX)'].str.replace(',', '').astype(float)\n",
    "\n",
    "# Convert 'Blood Pressure' column to string type and handle non-string values\n",
    "data_encoded['Blood Pressure'] = data_encoded['Blood Pressure'].astype(str)\n",
    "data_encoded['Blood Pressure'] = data_encoded['Blood Pressure'].replace('nan', np.nan)\n",
    "\n",
    "# Preprocess the blood pressure column\n",
    "data_encoded['Systolic Pressure'] = data_encoded['Blood Pressure'].str.split('/').str[0].astype(float)\n",
    "data_encoded['Diastolic Pressure'] = data_encoded['Blood Pressure'].str.split('/').str[1].astype(float)\n",
    "\n",
    "# Drop the original 'Blood Pressure' column\n",
    "data_encoded.drop('Blood Pressure', axis=1, inplace=True)"
   ]
  },
  {
   "attachments": {},
   "cell_type": "markdown",
   "metadata": {},
   "source": [
    "Step 4: Model Training"
   ]
  },
  {
   "cell_type": "code",
   "execution_count": 211,
   "metadata": {},
   "outputs": [
    {
     "name": "stdout",
     "output_type": "stream",
     "text": [
      "Training columns: Index(['Age', 'Height', 'Weight', 'BMI', 'Body Fat', 'Skeletal Muscle',\n",
      "       'Body Age', 'Visceral Fat', 'Resting Metabolism', 'Waist Circumference',\n",
      "       'Gender_Male', 'BMI Status_Morbidly obese', 'BMI Status_Normal',\n",
      "       'BMI Status_Obese', 'BMI Status_Overweight',\n",
      "       'BMI Status_Severely Obese', 'BMI Status_Severely obese',\n",
      "       'BMI Status_Severely obse', 'BMI Status_Severly Obese',\n",
      "       'BMI Status_Underweight', 'BMI Status_overwight', 'Systolic Pressure',\n",
      "       'Diastolic Pressure'],\n",
      "      dtype='object')\n"
     ]
    },
    {
     "data": {
      "text/plain": [
       "LinearRegression()"
      ]
     },
     "execution_count": 211,
     "metadata": {},
     "output_type": "execute_result"
    }
   ],
   "source": [
    "from sklearn.linear_model import LinearRegression\n",
    "\n",
    "X = data_encoded.drop('Charges (UGX)', axis=1)\n",
    "y = data_encoded['Charges (UGX)']\n",
    "print(\"Training columns:\", X.columns)\n",
    "\n",
    "model = LinearRegression()\n",
    "model.fit(X, y)\n"
   ]
  },
  {
   "attachments": {},
   "cell_type": "markdown",
   "metadata": {},
   "source": [
    "Step 5: Prediction"
   ]
  },
  {
   "cell_type": "code",
   "execution_count": 212,
   "metadata": {},
   "outputs": [
    {
     "name": "stdout",
     "output_type": "stream",
     "text": [
      "Predicted Insurance Charge: [1281910.70312351]\n"
     ]
    }
   ],
   "source": [
    "# Example input values for a new individual\n",
    "new_data = pd.DataFrame({\n",
    "    'Age': [42],\n",
    "    'Height': [1.9],\n",
    "    'Weight': [97.3],\n",
    "    'BMI': [27],\n",
    "    'Body Fat': [24.4],\n",
    "    'Skeletal Muscle': [35],\n",
    "    'Body Age': [66],\n",
    "    'Visceral Fat': [9],\n",
    "    'Resting Metabolism': [1944],\n",
    "    'Waist Circumference': [38],\n",
    "    'Gender_Male': [1],\n",
    "    'BMI Status_Overweight': [1]\n",
    "})\n",
    "\n",
    "# Apply the same one-hot encoding for the new individual\n",
    "new_data_encoded = pd.get_dummies(new_data)\n",
    "\n",
    "# Make sure the new data columns match the training columns\n",
    "missing_cols = set(X.columns) - set(new_data_encoded.columns)\n",
    "for col in missing_cols:\n",
    "    new_data_encoded[col] = 0\n",
    "new_data_encoded = new_data_encoded[X.columns]\n",
    "\n",
    "# Make the prediction using the trained model\n",
    "prediction = model.predict(new_data_encoded)\n",
    "print('Predicted Insurance Charge:', prediction)\n"
   ]
  },
  {
   "cell_type": "code",
   "execution_count": 213,
   "metadata": {},
   "outputs": [],
   "source": [
    "import pickle\n",
    "\n",
    "# Save the trained model to a file\n",
    "with open('linear_regression_model.pkl', 'wb') as file:\n",
    "    pickle.dump(model, file)"
   ]
  },
  {
   "cell_type": "code",
   "execution_count": 221,
   "metadata": {},
   "outputs": [
    {
     "name": "stdout",
     "output_type": "stream",
     "text": [
      "Predicted Insurance Charge: [1486504.24217834]\n"
     ]
    }
   ],
   "source": [
    "import pickle\n",
    "import pandas as pd\n",
    "\n",
    "# Load the saved model from file\n",
    "with open('linear_regression_model.pkl', 'rb') as file:\n",
    "    loaded_model = pickle.load(file)\n",
    "\n",
    "# Define the new data\n",
    "new_data = pd.DataFrame({\n",
    "    'Age': [25],\n",
    "    'Height': [1.9],\n",
    "    'Weight': [87.3],\n",
    "    'BMI': [27],\n",
    "    'Body Fat': [24.4],\n",
    "    'Skeletal Muscle': [35],\n",
    "    'Body Age': [66],\n",
    "    'Visceral Fat': [9],\n",
    "    'Resting Metabolism': [1944],\n",
    "    'Waist Circumference': [38],\n",
    "    'Gender_Male': [0],\n",
    "    'BMI Status_Overweight': [1]\n",
    "})\n",
    "\n",
    "# Apply the same preprocessing steps to the new data as done during training\n",
    "new_data_encoded = pd.get_dummies(new_data)\n",
    "\n",
    "# Ensure the new data columns match the training columns\n",
    "missing_cols = set(X.columns) - set(new_data_encoded.columns)\n",
    "for col in missing_cols:\n",
    "    new_data_encoded[col] = 0\n",
    "new_data_encoded = new_data_encoded[X.columns]\n",
    "\n",
    "# Make the prediction using the loaded model\n",
    "prediction = loaded_model.predict(new_data_encoded)\n",
    "print('Predicted Insurance Charge:', prediction)\n"
   ]
  }
 ],
 "metadata": {
  "kernelspec": {
   "display_name": "Python 3",
   "language": "python",
   "name": "python3"
  },
  "language_info": {
   "codemirror_mode": {
    "name": "ipython",
    "version": 3
   },
   "file_extension": ".py",
   "mimetype": "text/x-python",
   "name": "python",
   "nbconvert_exporter": "python",
   "pygments_lexer": "ipython3",
   "version": "3.8.12"
  },
  "orig_nbformat": 4
 },
 "nbformat": 4,
 "nbformat_minor": 2
}
